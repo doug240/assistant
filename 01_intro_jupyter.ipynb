{
 "cells": [
  {
   "cell_type": "markdown",
   "metadata": {},
   "source": [
    "# 01_intro_jupyter.ipynb\n",
    "\n",
    "Welcome to **JupyterLab** — your interactive AI lab!\n",
    "\n",
    "This notebook will help you get started with JupyterLab and teach the basics of running code, writing notes, and collaborating interactively."
   ]
  },
  {
   "cell_type": "markdown",
   "metadata": {},
   "source": [
    "## What is JupyterLab?\n",
    "\n",
    "- A web-based interactive coding environment\n",
    "- Supports Python code cells and Markdown text cells\n",
    "- Ideal for experimenting, documenting, and collaborating\n",
    "- Allows seamless mixing of code, notes, and outputs"
   ]
  },
  {
   "cell_type": "markdown",
   "metadata": {},
   "source": [
    "## Running your first Python code\n",
    "\n",
    "Click the next cell and press **Shift + Enter** to run the code inside."
   ]
  },
  {
   "cell_type": "code",
   "execution_count": null,
   "metadata": {},
   "outputs": [],
   "source": [
    "print(\"Hello! I am your AI lab partner, ready to learn and build with you.\")"
   ]
  },
  {
   "cell_type": "markdown",
   "metadata": {},
   "source": [
    "## Writing notes with Markdown\n",
    "\n",
    "You can create *Markdown* cells to add rich formatted notes, explanations, and instructions.\n",
    "\n",
    "Try to create a new cell, switch it to Markdown (select from the dropdown or press `M`), and write something like:\n",
    "\n",
    "```\n",
    "**This is a markdown cell!**\n",
    "- You can write lists\n",
    "- Add **bold**, *italic*, or `code` style\n",
    "- Include links and images\n",
    "```\n",
    "\n",
    "Use Markdown to document your AI experiments and code logic."
   ]
  },
  {
   "cell_type": "markdown",
   "metadata": {},
   "source": [
    "## Useful keyboard shortcuts\n",
    "\n",
    "- Run cell: `Shift + Enter`\n",
    "- New cell below: `B`\n",
    "- Change cell to code: `Y`\n",
    "- Change cell to markdown: `M`\n",
    "- Save notebook: `Ctrl + S` or `Cmd + S`\n",
    "- Restart kernel: Menu Kernel > Restart Kernel\n",
    "- Interrupt kernel (stop code): `I, I` (press I twice quickly)"
   ]
  },
  {
   "cell_type": "markdown",
   "metadata": {},
   "source": [
    "## Communicating with your AI lab partner\n",
    "\n",
    "You can write code to request help, analysis, or build functions step-by-step.\n",
    "The AI can generate code snippets, explain concepts, and run them interactively here."
   ]
  },
  {
   "cell_type": "code",
   "execution_count": null,
   "metadata": {},
   "outputs": [],
   "source": [
    "def greet(name: str) -> str:\n",
    "    return f\"Hello, {name}! Let's learn and grow our AI lab together.\"\n",
    "\n",
    "# Try running the function:\n",
    "greet(\"User\")"
   ]
  },
  {
   "cell_type": "markdown",
   "metadata": {},
   "source": [
    "## Next steps\n",
    "\n",
    "- Explore creating new notebooks for different topics\n",
    "- Use markdown and code cells to document your AI experiments\n",
    "- Save your notebooks often to keep your progress\n",
    "- Ask your AI lab partner to generate or debug code snippets\n",
    "- Build small experiments and gradually increase complexity\n",
    "\n",
    "Together, we will make this AI lab a dynamic, growing, and fun environment!"
   ]
  }
 ],
 "metadata": {
  "kernelspec": {
   "display_name": "Python 3",
   "language": "python",
   "name": "python3"
  },
  "language_info": {
   "codemirror_mode": {
    "name": "ipython",
    "version": 3
   },
   "file_extension": ".py",
   "mimetype": "text/x-python",
   "name": "python",
   "nbconvert_exporter": "python",
   "pygments_lexer": "ipython3",
   "version": "3.11.4"
  }
 },
 "nbformat": 4,
 "nbformat_minor": 5
}
