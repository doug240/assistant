{
 "cells": [
  {
   "cell_type": "markdown",
   "metadata": {},
   "source": [
    "# 02_working_with_files.ipynb\n",
    "\n",
    "Welcome to Step 2! In this notebook, we'll learn how to **work with files** in JupyterLab.\n",
    "\n",
    "Understanding file IO (input/output) is crucial for saving data, reading configurations, logging, and much more."
   ]
  },
  {
   "cell_type": "markdown",
   "metadata": {},
   "source": [
    "## Reading a file\n",
    "\n",
    "Let's start by reading a simple text file.\n",
    "\n",
    "Create a file named `example.txt` in the same directory as this notebook with the following content:\n",
    "\n",
    "```\n",
    "Hello AI Lab!\n",
    "This is a sample file for testing file reading.\n",
    "```\n",
    "\n",
    "Then run the following code cell to read and display its content."
   ]
  },
  {
   "cell_type": "code",
   "execution_count": null,
   "metadata": {},
   "outputs": [],
   "source": [
    "with open('example.txt', 'r', encoding='utf-8') as file:\n",
    "    content = file.read()\n",
    "print(\"Contents of example.txt:\")\n",
    "print(content)"
   ]
  },
  {
   "cell_type": "markdown",
   "metadata": {},
   "source": [
    "## Writing to a file\n",
    "\n",
    "Now, let's write some data to a new file called `output.txt`.\n",
    "We'll write a simple message that your AI can later read or update."
   ]
  },
  {
   "cell_type": "code",
   "execution_count": null,
   "metadata": {},
   "outputs": [],
   "source": [
    "message = \"This is output generated from our AI lab.\"\n",
    "with open('output.txt', 'w', encoding='utf-8') as file:\n",
    "    file.write(message)\n",
    "print(\"Wrote message to output.txt\")"
   ]
  },
  {
   "cell_type": "markdown",
   "metadata": {},
   "source": [
    "## Appending to a file\n",
    "\n",
    "Let's append some additional text to the `output.txt` file without overwriting the existing content."
   ]
  },
  {
   "cell_type": "code",
   "execution_count": null,
   "metadata": {},
   "outputs": [],
   "source": [
    "additional_message = \"\\nAppending a new line to our output file.\"\n",
    "with open('output.txt', 'a', encoding='utf-8') as file:\n",
    "    file.write(additional_message)\n",
    "print(\"Appended additional message to output.txt\")"
   ]
  },
  {
   "cell_type": "markdown",
   "metadata": {},
   "source": [
    "## Reading file content line-by-line\n",
    "\n",
    "Sometimes reading files line-by-line is useful, for example to process logs or data files.\n",
    "Let's read the `output.txt` file and print each line with its line number."
   ]
  },
  {
   "cell_type": "code",
   "execution_count": null,
   "metadata": {},
   "outputs": [],
   "source": [
    "with open('output.txt', 'r', encoding='utf-8') as file:\n",
    "    for i, line in enumerate(file, start=1):\n",
    "        print(f\"Line {i}: {line.strip()}\")"
   ]
  },
  {
   "cell_type": "markdown",
   "metadata": {},
   "source": [
    "## Using pathlib for file operations\n",
    "\n",
    "Python's `pathlib` module provides a modern way to handle file paths and operations.\n",
    "\n",
    "Let's list all `.txt` files in the current directory."
   ]
  },
  {
   "cell_type": "code",
   "execution_count": null,
   "metadata": {},
   "outputs": [],
   "source": [
    "from pathlib import Path\n",
    "\n",
    "txt_files = list(Path('.').glob('*.txt'))\n",
    "print(f\"Found {len(txt_files)} text files:\")\n",
    "for f in txt_files:\n",
    "    print(f\" - {f}\")"
   ]
  },
  {
   "cell_type": "markdown",
   "metadata": {},
   "source": [
    "## Exercise for your AI lab partner\n",
    "\n",
    "1. Create a new file named `data_log.txt` and write a few lines of text.\n",
    "2. Read the file back and print its content.\n",
    "3. Append a timestamped message each time the notebook runs.\n",
    "4. Use `pathlib` to verify the file exists before reading.\n",
    "\n",
    "Try writing code for each step in new cells and run them interactively.\n",
    "\n",
    "This will build your AI's foundational file handling skills!"
   ]
  },
  {
   "cell_type": "markdown",
   "metadata": {},
   "source": [
    "## Summary\n",
    "\n",
    "- File reading and writing are essential for persistent AI memory and data logging.\n",
    "- Use `with open(...)` to safely open and close files.\n",
    "- `pathlib` helps manage files and paths in a clean, cross-platform way.\n",
    "- Practice writing, reading, and appending to files.\n",
    "\n",
    "Next step will introduce how to work with structured data formats like JSON and CSV."
   ]
  }
 ],
 "metadata": {
  "kernelspec": {
   "display_name": "Python 3",
   "language": "python",
   "name": "python3"
  },
  "language_info": {
   "name": "python",
   "version": "3.11.4"
  }
 },
 "nbformat": 4,
 "nbformat_minor": 5
}
