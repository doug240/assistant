{
 "cells": [
  {
   "cell_type": "markdown",
   "metadata": {},
   "source": [
    "# 03_structured_data.ipynb\n",
    "\n",
    "Welcome to Step 3! In this notebook, we will learn how to **work with structured data** formats that are widely used for storing and exchanging information:\n",
    "\n",
    "- JSON (JavaScript Object Notation)\n",
    "- CSV (Comma Separated Values)\n",
    "\n",
    "These are foundational formats your AI will use to read/write data, exchange information with APIs, or save configuration and logs."
   ]
  },
  {
   "cell_type": "markdown",
   "metadata": {},
   "source": [
    "## JSON basics\n",
    "\n",
    "JSON is a lightweight, human-readable data interchange format. Python has a built-in `json` module to handle it.\n",
    "\n",
    "Let's start by creating a Python dictionary and saving it as a JSON file."
   ]
  },
  {
   "cell_type": "code",
   "execution_count": null,
   "metadata": {},
   "outputs": [],
   "source": [
    "import json\n",
    "\n",
    "data = {\n",
    "    \"name\": \"AI Lab\",\n",
    "    \"version\": 3,\n",
    "    \"features\": [\"file IO\", \"JSON handling\", \"CSV parsing\"],\n",
    "    \"active\": True\n",
    "}\n",
    "\n",
    "with open('data.json', 'w', encoding='utf-8') as f:\n",
    "    json.dump(data, f, indent=4)\n",
    "\n",
    "print(\"Saved data.json\")"
   ]
  },
  {
   "cell_type": "markdown",
   "metadata": {},
   "source": [
    "## Reading JSON files\n",
    "\n",
    "Let's read back the JSON file and print the dictionary."
   ]
  },
  {
   "cell_type": "code",
   "execution_count": null,
   "metadata": {},
   "outputs": [],
   "source": [
    "with open('data.json', 'r', encoding='utf-8') as f:\n",
    "    loaded_data = json.load(f)\n",
    "\n",
    "print(\"Loaded JSON data:\")\n",
    "print(loaded_data)"
   ]
  },
  {
   "cell_type": "markdown",
   "metadata": {},
   "source": [
    "## Modifying JSON data\n",
    "\n",
    "We can modify the loaded data and save it again."
   ]
  },
  {
   "cell_type": "code",
   "execution_count": null,
   "metadata": {},
   "outputs": [],
   "source": [
    "loaded_data['version'] = 4\n",
    "loaded_data['new_feature'] = \"Structured data handling\"\n",
    "\n",
    "with open('data.json', 'w', encoding='utf-8') as f:\n",
    "    json.dump(loaded_data, f, indent=4)\n",
    "\n",
    "print(\"Updated data.json\")"
   ]
  },
  {
   "cell_type": "markdown",
   "metadata": {},
   "source": [
    "## CSV basics\n",
    "\n",
    "CSV files are common for tabular data like spreadsheets or logs.\n",
    "\n",
    "Python's built-in `csv` module can read and write CSV files easily."
   ]
  },
  {
   "cell_type": "code",
   "execution_count": null,
   "metadata": {},
   "outputs": [],
   "source": [
    "import csv\n",
    "\n",
    "rows = [\n",
    "    ['Name', 'Age', 'Role'],\n",
    "    ['Alice', 30, 'Engineer'],\n",
    "    ['Bob', 25, 'Data Scientist'],\n",
    "    ['Charlie', 35, 'Manager']\n",
    "]\n",
    "\n",
    "with open('people.csv', 'w', newline='', encoding='utf-8') as f:\n",
    "    writer = csv.writer(f)\n",
    "    writer.writerows(rows)\n",
    "\n",
    "print(\"Saved people.csv\")"
   ]
  },
  {
   "cell_type": "markdown",
   "metadata": {},
   "source": [
    "## Reading CSV files\n",
    "\n",
    "Let's read the CSV file and print each row."
   ]
  },
  {
   "cell_type": "code",
   "execution_count": null,
   "metadata": {},
   "outputs": [],
   "source": [
    "with open('people.csv', 'r', encoding='utf-8') as f:\n",
    "    reader = csv.reader(f)\n",
    "    for row in reader:\n",
    "        print(row)"
   ]
  },
  {
   "cell_type": "markdown",
   "metadata": {},
   "source": [
    "## Exercise for your AI lab partner\n",
    "\n",
    "1. Create a JSON config file that contains settings like username, preferred language, and enabled features.\n",
    "2. Write code to read and update the config file.\n",
    "3. Create a CSV file logging user actions, with columns: timestamp, action, status.\n",
    "4. Write a function that appends a new action log entry with the current timestamp.\n",
    "\n",
    "Try building this interactively and experiment with loading and saving data.\n",
    "\n",
    "This will enhance your AI's ability to manage real-world data formats!"
   ]
  },
  {
   "cell_type": "markdown",
   "metadata": {},
   "source": [
    "## Summary\n",
    "\n",
    "- JSON is ideal for nested, hierarchical data and configuration.\n",
    "- CSV is great for simple tabular data.\n",
    "- Python provides built-in modules for easy read/write operations.\n",
    "- Your AI can now save structured data for memory and logging.\n",
    "\n",
    "Next steps can include database integration, using pandas for advanced data handling, or building interactive widgets."
   ]
  }
 ],
 "meta
