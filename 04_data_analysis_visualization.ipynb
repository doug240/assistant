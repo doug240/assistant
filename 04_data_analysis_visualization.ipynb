{
 "cells": [
  {
   "cell_type": "markdown",
   "metadata": {},
   "source": [
    "# 04_data_analysis_visualization.ipynb\n",
    "\n",
    "Welcome to Step 4! In this notebook, we will learn to analyze and visualize data using the powerful **pandas** library and **matplotlib**.\n",
    "\n",
    "This will prepare your AI to work with real-world data, extract insights, and present results visually."
   ]
  },
  {
   "cell_type": "markdown",
   "metadata": {},
   "source": [
    "## Installing required packages\n",
    "\n",
    "First, make sure pandas and matplotlib are installed:\n",
    "\n",
    "```bash\n",
    "!pip install pandas matplotlib\n",
    "```\n",
    "\n",
    "Run this cell if you haven't installed them yet."
   ]
  },
  {
   "cell_type": "code",
   "execution_count": null,
   "metadata": {},
   "outputs": [],
   "source": [
    "!pip install pandas matplotlib"
   ]
  },
  {
   "cell_type": "markdown",
   "metadata": {},
   "source": [
    "## Importing libraries\n",
    "\n",
    "Import pandas for data analysis and matplotlib.pyplot for plotting."
   ]
  },
  {
   "cell_type": "code",
   "execution_count": null,
   "metadata": {},
   "outputs": [],
   "source": [
    "import pandas as pd\n",
    "import matplotlib.pyplot as plt"
   ]
  },
  {
   "cell_type": "markdown",
   "metadata": {},
   "source": [
    "## Loading CSV data into a DataFrame\n",
    "\n",
    "Use the CSV file from the previous step or any CSV file you have."
   ]
  },
  {
   "cell_type": "code",
   "execution_count": null,
   "metadata": {},
   "outputs": [],
   "source": [
    "# Loading people.csv from step 3\n",
    "df = pd.read_csv('people.csv')\n",
    "df"
   ]
  },
  {
   "cell_type": "markdown",
   "metadata": {},
   "source": [
    "## Basic data exploration\n",
    "\n",
    "- View top rows\n",
    "- Get summary statistics\n",
    "- Check data types"
   ]
  },
  {
   "cell_type": "code",
   "execution_count": null,
   "metadata": {},
   "outputs": [],
   "source": [
    "print(df.head())  # First 5 rows\n",
    "print(df.describe())  # Summary statistics\n",
    "print(df.dtypes)  # Data types"
   ]
  },
  {
   "cell_type": "markdown",
   "metadata": {},
   "source": [
    "## Filtering data\n",
    "\n",
    "Get rows where Age > 28"
   ]
  },
  {
   "cell_type": "code",
   "execution_count": null,
   "metadata": {},
   "outputs": [],
   "source": [
    "filtered = df[df['Age'] > 28]\n",
    "filtered"
   ]
  },
  {
   "cell_type": "markdown",
   "metadata": {},
   "source": [
    "## Simple plotting\n",
    "\n",
    "Plot Age distribution as a bar chart."
   ]
  },
  {
   "cell_type": "code",
   "execution_count": null,
   "metadata": {},
   "outputs": [],
   "source": [
    "plt.bar(df['Name'], df['Age'])\n",
    "plt.title('Age Distribution')\n",
    "plt.xlabel('Name')\n",
    "plt.ylabel('Age')\n",
    "plt.show()"
   ]
  },
  {
   "cell_type": "markdown",
   "metadata": {},
   "source": [
    "## Exercise for your AI lab partner\n",
    "\n",
    "1. Load a CSV file with numerical and categorical data.\n",
    "2. Calculate mean, median, and standard deviation for numeric columns.\n",
    "3. Filter data based on conditions (e.g., Role == 'Engineer').\n",
    "4. Create at least two types of plots (bar chart, line chart, scatter plot).\n",
    "5. Save a plot as an image file.\n",
    "\n",
    "Practice data wrangling and visualization interactively."
   ]
  },
  {
   "cell_type": "markdown",
   "metadata": {},
   "source": [
    "## Summary\n",
    "\n",
    "- Pandas simplifies tabular data manipulation.\n",
    "- Matplotlib enables powerful visualizations.\n",
    "- Combining them prepares your AI for insightful data work.\n",
    "\n",
    "Next, we can explore databases, web scraping, or automation!"
   ]
  }
 ],
 "metadata": {
  "kernelspec": {
   "display_name": "Python 3",
   "language": "python",
   "name": "python3"
  },
  "language_info": {
   "name": "python",
   "version": "3.11.4"
  }
 },
 "nbformat": 4,
 "nbformat_minor": 5
}
